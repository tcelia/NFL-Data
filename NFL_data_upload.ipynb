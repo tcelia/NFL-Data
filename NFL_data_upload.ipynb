{
 "cells": [
  {
   "cell_type": "markdown",
   "metadata": {
    "id": "OqT5pakkkEGq"
   },
   "source": [
    "# First import your libraries and data"
   ]
  },
  {
   "cell_type": "code",
   "execution_count": 1,
   "metadata": {
    "id": "zwH8UpYP3L76"
   },
   "outputs": [],
   "source": [
    "import pandas as pd\n",
    "import matplotlib.pyplot as plt\n",
    "import numpy as np"
   ]
  },
  {
   "cell_type": "code",
   "execution_count": 2,
   "metadata": {
    "id": "J_XT5ku33O91"
   },
   "outputs": [],
   "source": [
    "#use this code to download the files from the GitHub site\n",
    "#YEARS=list(range(1998,2021))\n",
    "#for i in YEARS:\n",
    "#  data = pd.read_csv('https://github.com/guga31bb/nflfastR-data/blob/master/data/' \\\n",
    "#                         'play_by_play_' + str(i) + '.csv.gz?raw=True', compression='gzip', low_memory=False)\n",
    "#  data.to_csv(f'{i} nfl data.csv', header=True) "
   ]
  },
  {
   "cell_type": "code",
   "execution_count": 3,
   "metadata": {
    "colab": {
     "base_uri": "https://localhost:8080/",
     "height": 17
    },
    "id": "ZSpBhPcoO5a5",
    "outputId": "fd46e949-025c-4545-c2ee-787cd66453e3"
   },
   "outputs": [],
   "source": [
    "#use this code to export the files to your hard drive, if interested\n",
    "#from google.colab import files\n",
    "#for i in YEARS:\n",
    "#  files.download(f'{i} nfl data.csv')"
   ]
  },
  {
   "cell_type": "markdown",
   "metadata": {
    "id": "Ui7TvNu3XdUN"
   },
   "source": [
    "# Get all the data for only Safeties"
   ]
  },
  {
   "cell_type": "code",
   "execution_count": 4,
   "metadata": {
    "colab": {
     "base_uri": "https://localhost:8080/"
    },
    "id": "6h1Ie69xXc8D",
    "outputId": "c5a2d627-a425-4658-ed73-f127738236b3"
   },
   "outputs": [
    {
     "name": "stderr",
     "output_type": "stream",
     "text": [
      "c:\\users\\aceli\\appdata\\local\\programs\\python\\python38-32\\lib\\site-packages\\IPython\\core\\interactiveshell.py:3145: DtypeWarning: Columns (37,38,180,181,190,191,198,199,204,205,206,207,214,215,219,220,221,223,225,227,249,250,254,255,256,261,263,264,267,268,269,270) have mixed types.Specify dtype option on import or set low_memory=False.\n",
      "  has_raised = await self.run_ast_nodes(code_ast.body, cell_name,\n",
      "c:\\users\\aceli\\appdata\\local\\programs\\python\\python38-32\\lib\\site-packages\\IPython\\core\\interactiveshell.py:3145: DtypeWarning: Columns (38,46,180,181,183,184,190,191,194,195,198,199,204,205,206,207,219,220,221,249,250,254,255,256,261,263,264) have mixed types.Specify dtype option on import or set low_memory=False.\n",
      "  has_raised = await self.run_ast_nodes(code_ast.body, cell_name,\n",
      "c:\\users\\aceli\\appdata\\local\\programs\\python\\python38-32\\lib\\site-packages\\IPython\\core\\interactiveshell.py:3145: DtypeWarning: Columns (38,180,181,183,184,190,191,194,195,198,199,204,205,206,207,210,211,214,215,219,220,221,249,250,254,255,256,261,263,264,267,268,269,270,300) have mixed types.Specify dtype option on import or set low_memory=False.\n",
      "  has_raised = await self.run_ast_nodes(code_ast.body, cell_name,\n",
      "c:\\users\\aceli\\appdata\\local\\programs\\python\\python38-32\\lib\\site-packages\\IPython\\core\\interactiveshell.py:3145: DtypeWarning: Columns (38,46,180,181,183,184,190,191,194,195,198,199,204,205,206,207,210,211,219,220,221,249,250,254,255,256,261,263,264,300) have mixed types.Specify dtype option on import or set low_memory=False.\n",
      "  has_raised = await self.run_ast_nodes(code_ast.body, cell_name,\n",
      "c:\\users\\aceli\\appdata\\local\\programs\\python\\python38-32\\lib\\site-packages\\IPython\\core\\interactiveshell.py:3145: DtypeWarning: Columns (38,46,180,181,190,191,194,195,198,199,204,205,206,207,219,220,221,249,250,254,255,256,261,263,264,300) have mixed types.Specify dtype option on import or set low_memory=False.\n",
      "  has_raised = await self.run_ast_nodes(code_ast.body, cell_name,\n",
      "c:\\users\\aceli\\appdata\\local\\programs\\python\\python38-32\\lib\\site-packages\\IPython\\core\\interactiveshell.py:3145: DtypeWarning: Columns (38,46,180,181,190,191,194,195,198,199,204,205,206,207,210,211,214,215,219,220,221,249,250,254,255,256,261,263,264,267,268,269,270,300) have mixed types.Specify dtype option on import or set low_memory=False.\n",
      "  has_raised = await self.run_ast_nodes(code_ast.body, cell_name,\n",
      "c:\\users\\aceli\\appdata\\local\\programs\\python\\python38-32\\lib\\site-packages\\IPython\\core\\interactiveshell.py:3145: DtypeWarning: Columns (38,46,180,181,183,184,190,191,194,195,198,199,204,205,206,207,208,209,212,213,214,215,219,220,221,249,250,254,255,256,261,263,264,267,268,269,270,293,294,300) have mixed types.Specify dtype option on import or set low_memory=False.\n",
      "  has_raised = await self.run_ast_nodes(code_ast.body, cell_name,\n",
      "c:\\users\\aceli\\appdata\\local\\programs\\python\\python38-32\\lib\\site-packages\\IPython\\core\\interactiveshell.py:3145: DtypeWarning: Columns (43,45,46,51,52,53,180,181,183,184,188,189,190,191,194,195,196,197,198,199,202,203,204,205,206,207,208,209,214,215,216,217,218,219,220,221,223,225,227,241,242,243,249,250,251,252,253,254,255,256,257,259,260,261,263,264,265,266,267,268,269,270,278,294,300) have mixed types.Specify dtype option on import or set low_memory=False.\n",
      "  has_raised = await self.run_ast_nodes(code_ast.body, cell_name,\n",
      "c:\\users\\aceli\\appdata\\local\\programs\\python\\python38-32\\lib\\site-packages\\IPython\\core\\interactiveshell.py:3145: DtypeWarning: Columns (46,180,181,183,184,190,191,194,195,198,199,204,205,206,207,208,209,219,220,221,249,250,254,255,256,261,263,264,293,294,300) have mixed types.Specify dtype option on import or set low_memory=False.\n",
      "  has_raised = await self.run_ast_nodes(code_ast.body, cell_name,\n",
      "c:\\users\\aceli\\appdata\\local\\programs\\python\\python38-32\\lib\\site-packages\\IPython\\core\\interactiveshell.py:3145: DtypeWarning: Columns (46,180,181,183,184,190,191,194,195,198,199,204,205,206,207,210,211,219,220,221,249,250,254,255,256,261,263,264,294,300) have mixed types.Specify dtype option on import or set low_memory=False.\n",
      "  has_raised = await self.run_ast_nodes(code_ast.body, cell_name,\n",
      "c:\\users\\aceli\\appdata\\local\\programs\\python\\python38-32\\lib\\site-packages\\IPython\\core\\interactiveshell.py:3145: DtypeWarning: Columns (46,180,181,190,191,194,195,198,199,204,205,206,207,214,215,219,220,221,223,225,227,249,250,254,255,256,261,263,264,267,268,269,270,294,300) have mixed types.Specify dtype option on import or set low_memory=False.\n",
      "  has_raised = await self.run_ast_nodes(code_ast.body, cell_name,\n",
      "c:\\users\\aceli\\appdata\\local\\programs\\python\\python38-32\\lib\\site-packages\\IPython\\core\\interactiveshell.py:3145: DtypeWarning: Columns (46,180,181,183,184,190,191,194,195,198,199,204,205,206,207,219,220,221,249,250,254,255,256,261,263,264,293,294,300) have mixed types.Specify dtype option on import or set low_memory=False.\n",
      "  has_raised = await self.run_ast_nodes(code_ast.body, cell_name,\n",
      "c:\\users\\aceli\\appdata\\local\\programs\\python\\python38-32\\lib\\site-packages\\IPython\\core\\interactiveshell.py:3145: DtypeWarning: Columns (46,180,181,183,184,190,191,194,195,198,199,204,205,206,207,210,211,214,215,219,220,221,254,255,256,261,263,264,293,294,300) have mixed types.Specify dtype option on import or set low_memory=False.\n",
      "  has_raised = await self.run_ast_nodes(code_ast.body, cell_name,\n",
      "c:\\users\\aceli\\appdata\\local\\programs\\python\\python38-32\\lib\\site-packages\\IPython\\core\\interactiveshell.py:3145: DtypeWarning: Columns (180,181,183,184,190,191,194,195,198,199,204,205,206,207,219,220,221,249,250,254,255,256,261,263,264,293,294,300) have mixed types.Specify dtype option on import or set low_memory=False.\n",
      "  has_raised = await self.run_ast_nodes(code_ast.body, cell_name,\n",
      "c:\\users\\aceli\\appdata\\local\\programs\\python\\python38-32\\lib\\site-packages\\IPython\\core\\interactiveshell.py:3145: DtypeWarning: Columns (46,180,181,183,184,194,195,198,199,204,205,206,207,210,211,219,220,221,254,255,256,261,263,264,293,294,300) have mixed types.Specify dtype option on import or set low_memory=False.\n",
      "  has_raised = await self.run_ast_nodes(code_ast.body, cell_name,\n",
      "c:\\users\\aceli\\appdata\\local\\programs\\python\\python38-32\\lib\\site-packages\\IPython\\core\\interactiveshell.py:3145: DtypeWarning: Columns (46,180,181,183,184,190,191,194,195,198,199,204,205,219,220,221,249,250,254,255,256,261,263,264,293,294,300) have mixed types.Specify dtype option on import or set low_memory=False.\n",
      "  has_raised = await self.run_ast_nodes(code_ast.body, cell_name,\n",
      "c:\\users\\aceli\\appdata\\local\\programs\\python\\python38-32\\lib\\site-packages\\IPython\\core\\interactiveshell.py:3145: DtypeWarning: Columns (46,180,181,183,184,190,191,194,195,198,199,204,205,206,207,219,220,221,234,235,236,237,238,239,249,250,254,255,256,261,263,264,300) have mixed types.Specify dtype option on import or set low_memory=False.\n",
      "  has_raised = await self.run_ast_nodes(code_ast.body, cell_name,\n",
      "c:\\users\\aceli\\appdata\\local\\programs\\python\\python38-32\\lib\\site-packages\\IPython\\core\\interactiveshell.py:3145: DtypeWarning: Columns (180,181,183,184,190,191,194,195,198,199,204,205,206,207,210,211,219,220,221,249,250,254,255,256,261,263,264,300) have mixed types.Specify dtype option on import or set low_memory=False.\n",
      "  has_raised = await self.run_ast_nodes(code_ast.body, cell_name,\n",
      "c:\\users\\aceli\\appdata\\local\\programs\\python\\python38-32\\lib\\site-packages\\IPython\\core\\interactiveshell.py:3145: DtypeWarning: Columns (180,181,183,184,190,191,194,195,198,199,204,205,206,207,214,215,219,220,221,254,255,256,261,263,264,267,268,269,270,300) have mixed types.Specify dtype option on import or set low_memory=False.\n",
      "  has_raised = await self.run_ast_nodes(code_ast.body, cell_name,\n",
      "c:\\users\\aceli\\appdata\\local\\programs\\python\\python38-32\\lib\\site-packages\\IPython\\core\\interactiveshell.py:3145: DtypeWarning: Columns (180,181,183,184,194,195,198,199,204,205,206,207,219,220,221,249,250,254,255,256,261,263,264,300) have mixed types.Specify dtype option on import or set low_memory=False.\n",
      "  has_raised = await self.run_ast_nodes(code_ast.body, cell_name,\n",
      "c:\\users\\aceli\\appdata\\local\\programs\\python\\python38-32\\lib\\site-packages\\IPython\\core\\interactiveshell.py:3145: DtypeWarning: Columns (180,181,183,184,190,191,194,195,198,199,204,205,206,207,210,211,219,220,221,234,235,236,237,238,239,254,255,256,261,263,264,300) have mixed types.Specify dtype option on import or set low_memory=False.\n",
      "  has_raised = await self.run_ast_nodes(code_ast.body, cell_name,\n",
      "c:\\users\\aceli\\appdata\\local\\programs\\python\\python38-32\\lib\\site-packages\\IPython\\core\\interactiveshell.py:3145: DtypeWarning: Columns (180,181,183,184,190,191,194,195,198,199,204,205,206,207,214,215,219,220,221,223,225,227,249,250,254,255,256,261,263,264,267,268,269,270,300) have mixed types.Specify dtype option on import or set low_memory=False.\n",
      "  has_raised = await self.run_ast_nodes(code_ast.body, cell_name,\n"
     ]
    }
   ],
   "source": [
    "YEARS=list(range(1999,2021))\n",
    "\n",
    "safetydata = pd.DataFrame()\n",
    "\n",
    "#loop through each csv file, import and filter where 'safety' == 1\n",
    "for i in YEARS:\n",
    "  dataset = pd.read_csv(f'{i} nfl data.csv')\n",
    "  dataset=dataset.loc[(dataset['safety']==1)]\n",
    "  safetydata = pd.concat([safetydata, dataset])\n",
    "#reset the index\n",
    "safetydata.reset_index(inplace=True, drop=True)"
   ]
  },
  {
   "cell_type": "markdown",
   "metadata": {
    "id": "eQJ2iY7tanrS"
   },
   "source": [
    "Let's process some data sp we can run some analysis"
   ]
  },
  {
   "cell_type": "code",
   "execution_count": 5,
   "metadata": {
    "id": "eQJ2iY7tanrS"
   },
   "outputs": [],
   "source": [
    "#now we need to determine who done got safe- possession team or defense\n",
    "#create a new column 'posteamscore' by getting there difference of the post team score and pos team score post\n",
    "safetydata['posteamscore']=safetydata['posteam_score_post']-safetydata['posteam_score']\n",
    "#if the pos team score differential is 2, the scoring team was the pos team\n",
    "safetydata.loc[safetydata['posteamscore'] == 2, 'scoringteam'] = safetydata['posteam']\n",
    "#if the score differential was 0, the scoring team was the def team\n",
    "safetydata.loc[safetydata['posteamscore'] == 0, 'scoringteam'] = safetydata['defteam']\n",
    "\n",
    "#if the pos team score differential is 2, the broken team was the pos team\n",
    "safetydata.loc[safetydata['posteamscore'] == 2, 'brokenteam'] = safetydata['defteam']\n",
    "#if the score differential was 0, the broken team was the def team\n",
    "safetydata.loc[safetydata['posteamscore'] == 0, 'brokenteam'] = safetydata['posteam']\n",
    "\n",
    "#game winner, losers, tie\n",
    "safetydata.loc[safetydata['home_score'] > safetydata['away_score'], 'gamewinner'] = safetydata['home_team']\n",
    "safetydata.loc[safetydata['home_score'] < safetydata['away_score'], 'gamewinner'] = safetydata['away_team']\n",
    "safetydata.loc[safetydata['home_score'] == safetydata['away_score'], 'gamewinner'] = 'tie'"
   ]
  },
  {
   "cell_type": "code",
   "execution_count": 6,
   "metadata": {
    "id": "eQJ2iY7tanrS"
   },
   "outputs": [
    {
     "data": {
      "text/html": [
       "<div>\n",
       "<style scoped>\n",
       "    .dataframe tbody tr th:only-of-type {\n",
       "        vertical-align: middle;\n",
       "    }\n",
       "\n",
       "    .dataframe tbody tr th {\n",
       "        vertical-align: top;\n",
       "    }\n",
       "\n",
       "    .dataframe thead th {\n",
       "        text-align: right;\n",
       "    }\n",
       "</style>\n",
       "<table border=\"1\" class=\"dataframe\">\n",
       "  <thead>\n",
       "    <tr style=\"text-align: right;\">\n",
       "      <th></th>\n",
       "      <th>Unnamed: 0</th>\n",
       "      <th>play_id</th>\n",
       "      <th>game_id</th>\n",
       "      <th>old_game_id</th>\n",
       "      <th>home_team</th>\n",
       "      <th>away_team</th>\n",
       "      <th>season_type</th>\n",
       "      <th>week</th>\n",
       "      <th>posteam</th>\n",
       "      <th>posteam_type</th>\n",
       "      <th>...</th>\n",
       "      <th>xyac_mean_yardage</th>\n",
       "      <th>xyac_median_yardage</th>\n",
       "      <th>xyac_success</th>\n",
       "      <th>xyac_fd</th>\n",
       "      <th>xpass</th>\n",
       "      <th>pass_oe</th>\n",
       "      <th>posteamscore</th>\n",
       "      <th>scoringteam</th>\n",
       "      <th>brokenteam</th>\n",
       "      <th>gamewinner</th>\n",
       "    </tr>\n",
       "  </thead>\n",
       "  <tbody>\n",
       "    <tr>\n",
       "      <th>0</th>\n",
       "      <td>603</td>\n",
       "      <td>1110</td>\n",
       "      <td>1999_01_CIN_TEN</td>\n",
       "      <td>1999091204</td>\n",
       "      <td>TEN</td>\n",
       "      <td>CIN</td>\n",
       "      <td>REG</td>\n",
       "      <td>1</td>\n",
       "      <td>CIN</td>\n",
       "      <td>away</td>\n",
       "      <td>...</td>\n",
       "      <td>NaN</td>\n",
       "      <td>NaN</td>\n",
       "      <td>NaN</td>\n",
       "      <td>NaN</td>\n",
       "      <td>NaN</td>\n",
       "      <td>NaN</td>\n",
       "      <td>0.0</td>\n",
       "      <td>TEN</td>\n",
       "      <td>CIN</td>\n",
       "      <td>TEN</td>\n",
       "    </tr>\n",
       "    <tr>\n",
       "      <th>1</th>\n",
       "      <td>1018</td>\n",
       "      <td>1407</td>\n",
       "      <td>1999_01_DET_SEA</td>\n",
       "      <td>1999091209</td>\n",
       "      <td>SEA</td>\n",
       "      <td>DET</td>\n",
       "      <td>REG</td>\n",
       "      <td>1</td>\n",
       "      <td>SEA</td>\n",
       "      <td>home</td>\n",
       "      <td>...</td>\n",
       "      <td>NaN</td>\n",
       "      <td>NaN</td>\n",
       "      <td>NaN</td>\n",
       "      <td>NaN</td>\n",
       "      <td>NaN</td>\n",
       "      <td>NaN</td>\n",
       "      <td>0.0</td>\n",
       "      <td>DET</td>\n",
       "      <td>SEA</td>\n",
       "      <td>DET</td>\n",
       "    </tr>\n",
       "    <tr>\n",
       "      <th>2</th>\n",
       "      <td>1752</td>\n",
       "      <td>1796</td>\n",
       "      <td>1999_01_NE_NYJ</td>\n",
       "      <td>1999091207</td>\n",
       "      <td>NYJ</td>\n",
       "      <td>NE</td>\n",
       "      <td>REG</td>\n",
       "      <td>1</td>\n",
       "      <td>NE</td>\n",
       "      <td>away</td>\n",
       "      <td>...</td>\n",
       "      <td>NaN</td>\n",
       "      <td>NaN</td>\n",
       "      <td>NaN</td>\n",
       "      <td>NaN</td>\n",
       "      <td>NaN</td>\n",
       "      <td>NaN</td>\n",
       "      <td>0.0</td>\n",
       "      <td>NYJ</td>\n",
       "      <td>NE</td>\n",
       "      <td>NE</td>\n",
       "    </tr>\n",
       "    <tr>\n",
       "      <th>3</th>\n",
       "      <td>2943</td>\n",
       "      <td>595</td>\n",
       "      <td>1999_02_CLE_TEN</td>\n",
       "      <td>1999091911</td>\n",
       "      <td>TEN</td>\n",
       "      <td>CLE</td>\n",
       "      <td>REG</td>\n",
       "      <td>2</td>\n",
       "      <td>CLE</td>\n",
       "      <td>away</td>\n",
       "      <td>...</td>\n",
       "      <td>NaN</td>\n",
       "      <td>NaN</td>\n",
       "      <td>NaN</td>\n",
       "      <td>NaN</td>\n",
       "      <td>NaN</td>\n",
       "      <td>NaN</td>\n",
       "      <td>0.0</td>\n",
       "      <td>TEN</td>\n",
       "      <td>CLE</td>\n",
       "      <td>TEN</td>\n",
       "    </tr>\n",
       "    <tr>\n",
       "      <th>4</th>\n",
       "      <td>3385</td>\n",
       "      <td>2839</td>\n",
       "      <td>1999_02_GB_DET</td>\n",
       "      <td>1999091901</td>\n",
       "      <td>DET</td>\n",
       "      <td>GB</td>\n",
       "      <td>REG</td>\n",
       "      <td>2</td>\n",
       "      <td>DET</td>\n",
       "      <td>home</td>\n",
       "      <td>...</td>\n",
       "      <td>NaN</td>\n",
       "      <td>NaN</td>\n",
       "      <td>NaN</td>\n",
       "      <td>NaN</td>\n",
       "      <td>NaN</td>\n",
       "      <td>NaN</td>\n",
       "      <td>0.0</td>\n",
       "      <td>GB</td>\n",
       "      <td>DET</td>\n",
       "      <td>DET</td>\n",
       "    </tr>\n",
       "  </tbody>\n",
       "</table>\n",
       "<p>5 rows × 375 columns</p>\n",
       "</div>"
      ],
      "text/plain": [
       "   Unnamed: 0  play_id          game_id  old_game_id home_team away_team  \\\n",
       "0         603     1110  1999_01_CIN_TEN   1999091204       TEN       CIN   \n",
       "1        1018     1407  1999_01_DET_SEA   1999091209       SEA       DET   \n",
       "2        1752     1796   1999_01_NE_NYJ   1999091207       NYJ        NE   \n",
       "3        2943      595  1999_02_CLE_TEN   1999091911       TEN       CLE   \n",
       "4        3385     2839   1999_02_GB_DET   1999091901       DET        GB   \n",
       "\n",
       "  season_type  week posteam posteam_type  ... xyac_mean_yardage  \\\n",
       "0         REG     1     CIN         away  ...               NaN   \n",
       "1         REG     1     SEA         home  ...               NaN   \n",
       "2         REG     1      NE         away  ...               NaN   \n",
       "3         REG     2     CLE         away  ...               NaN   \n",
       "4         REG     2     DET         home  ...               NaN   \n",
       "\n",
       "  xyac_median_yardage  xyac_success xyac_fd  xpass  pass_oe  posteamscore  \\\n",
       "0                 NaN           NaN     NaN    NaN      NaN           0.0   \n",
       "1                 NaN           NaN     NaN    NaN      NaN           0.0   \n",
       "2                 NaN           NaN     NaN    NaN      NaN           0.0   \n",
       "3                 NaN           NaN     NaN    NaN      NaN           0.0   \n",
       "4                 NaN           NaN     NaN    NaN      NaN           0.0   \n",
       "\n",
       "  scoringteam  brokenteam  gamewinner  \n",
       "0         TEN         CIN         TEN  \n",
       "1         DET         SEA         DET  \n",
       "2         NYJ          NE          NE  \n",
       "3         TEN         CLE         TEN  \n",
       "4          GB         DET         DET  \n",
       "\n",
       "[5 rows x 375 columns]"
      ]
     },
     "execution_count": 6,
     "metadata": {},
     "output_type": "execute_result"
    }
   ],
   "source": [
    "safetydata.head()"
   ]
  },
  {
   "cell_type": "markdown",
   "metadata": {
    "colab": {
     "base_uri": "https://localhost:8080/",
     "height": 390
    },
    "id": "I3Vrtg82hzUk",
    "outputId": "8f32eaa2-483a-4904-cc06-01197fa534a3"
   },
   "source": [
    "# First let's see the total number of safeties per year"
   ]
  },
  {
   "cell_type": "code",
   "execution_count": 7,
   "metadata": {
    "colab": {
     "base_uri": "https://localhost:8080/",
     "height": 390
    },
    "id": "I3Vrtg82hzUk",
    "outputId": "8f32eaa2-483a-4904-cc06-01197fa534a3"
   },
   "outputs": [],
   "source": [
    "safety_by_year = dict(safetydata['season'].value_counts())\n",
    "#need to sort the list since the keys are values\n",
    "safety_by_year = {key: value for key, value in sorted(safety_by_year.items())}\n",
    "safety_year=list(map(str,safety_by_year.keys()))\n",
    "safety_year_count=list(safety_by_year.values())"
   ]
  },
  {
   "cell_type": "code",
   "execution_count": 8,
   "metadata": {
    "colab": {
     "base_uri": "https://localhost:8080/",
     "height": 390
    },
    "id": "I3Vrtg82hzUk",
    "outputId": "8f32eaa2-483a-4904-cc06-01197fa534a3"
   },
   "outputs": [
    {
     "name": "stdout",
     "output_type": "stream",
     "text": [
      "383\n"
     ]
    }
   ],
   "source": [
    "print(sum(safety_year_count))"
   ]
  },
  {
   "cell_type": "code",
   "execution_count": 9,
   "metadata": {
    "colab": {
     "base_uri": "https://localhost:8080/",
     "height": 390
    },
    "id": "I3Vrtg82hzUk",
    "outputId": "8f32eaa2-483a-4904-cc06-01197fa534a3"
   },
   "outputs": [
    {
     "data": {
      "image/png": "[encoded data removed]",
      "text/plain": [
       "<Figure size 1080x396 with 1 Axes>"
      ]
     },
     "metadata": {
      "needs_background": "light"
     },
     "output_type": "display_data"
    }
   ],
   "source": [
    "# function to add value labels\n",
    "def addlabels(x,y):\n",
    "    for i in range(len(x)):\n",
    "        plt.text(i,y[i]+.08,\"{:.0f}\".format(y[i]), ha='center')\n",
    "\n",
    "plt.bar(safety_year, safety_year_count, color = 'blue')\n",
    "plt.title('Safeties Scored by Year (1999-2020)')\n",
    "plt.xlabel('Team')\n",
    "plt.ylabel('Safeties')\n",
    "plt.xticks(rotation=45)\n",
    "addlabels(safety_year, safety_year_count)\n",
    "fig= plt.gcf()\n",
    "fig.set_size_inches(15, 5.5)\n",
    "plt.subplots_adjust(right=0.75)\n",
    "plt.show()"
   ]
  },
  {
   "cell_type": "markdown",
   "metadata": {
    "colab": {
     "base_uri": "https://localhost:8080/",
     "height": 390
    },
    "id": "I3Vrtg82hzUk",
    "outputId": "8f32eaa2-483a-4904-cc06-01197fa534a3"
   },
   "source": [
    "As we can see, 1999 was dominated by the safety. What a year it was! Honorable mention in 2008 and 2020"
   ]
  },
  {
   "cell_type": "markdown",
   "metadata": {
    "colab": {
     "base_uri": "https://localhost:8080/",
     "height": 390
    },
    "id": "I3Vrtg82hzUk",
    "outputId": "8f32eaa2-483a-4904-cc06-01197fa534a3"
   },
   "source": [
    "# Now let's see what teams scored the most safeties"
   ]
  },
  {
   "cell_type": "code",
   "execution_count": 10,
   "metadata": {
    "colab": {
     "base_uri": "https://localhost:8080/",
     "height": 390
    },
    "id": "I3Vrtg82hzUk",
    "outputId": "8f32eaa2-483a-4904-cc06-01197fa534a3"
   },
   "outputs": [],
   "source": [
    "safety_by_team = dict(safetydata['scoringteam'].value_counts())\n",
    "safety_teams=list(safety_by_team.keys())\n",
    "safety_count=list(safety_by_team.values())"
   ]
  },
  {
   "cell_type": "code",
   "execution_count": 11,
   "metadata": {
    "colab": {
     "base_uri": "https://localhost:8080/",
     "height": 390
    },
    "id": "I3Vrtg82hzUk",
    "outputId": "8f32eaa2-483a-4904-cc06-01197fa534a3"
   },
   "outputs": [
    {
     "name": "stdout",
     "output_type": "stream",
     "text": [
      "383\n"
     ]
    }
   ],
   "source": [
    "print(sum(safety_count))"
   ]
  },
  {
   "cell_type": "code",
   "execution_count": 12,
   "metadata": {
    "colab": {
     "base_uri": "https://localhost:8080/",
     "height": 390
    },
    "id": "I3Vrtg82hzUk",
    "outputId": "8f32eaa2-483a-4904-cc06-01197fa534a3"
   },
   "outputs": [
    {
     "data": {
      "image/png": "[encoded data removed]",
      "text/plain": [
       "<Figure size 1080x396 with 1 Axes>"
      ]
     },
     "metadata": {
      "needs_background": "light"
     },
     "output_type": "display_data"
    }
   ],
   "source": [
    "# function to add value labels\n",
    "def addlabels(x,y):\n",
    "    for i in range(len(x)):\n",
    "        plt.text(i,y[i]+.08,\"{:.0f}\".format(y[i]), ha='center')\n",
    "\n",
    "plt.bar(safety_teams, safety_count, color = 'green')\n",
    "plt.title('Safeties Scored by Team (1999-2020)')\n",
    "plt.xlabel('Team')\n",
    "plt.ylabel('Safeties')\n",
    "plt.xticks(rotation=45)\n",
    "addlabels(safety_teams, safety_count)\n",
    "fig= plt.gcf()\n",
    "fig.set_size_inches(15, 5.5)\n",
    "plt.subplots_adjust(right=0.75)\n",
    "plt.show()"
   ]
  },
  {
   "cell_type": "markdown",
   "metadata": {
    "id": "fhEnIM8PoLYV"
   },
   "source": [
    "It looks like Detroit is the big winner over this time period! The Motor City is on it's way back!"
   ]
  },
  {
   "cell_type": "markdown",
   "metadata": {
    "id": "fhEnIM8PoLYV"
   },
   "source": [
    "# We all know giving up a safety is the ultimate back breaker. Who gave up the most safeties?"
   ]
  },
  {
   "cell_type": "code",
   "execution_count": 13,
   "metadata": {
    "id": "fhEnIM8PoLYV"
   },
   "outputs": [],
   "source": [
    "safety_to_team = dict(safetydata['brokenteam'].value_counts())\n",
    "safety_to_teams=list(safety_to_team.keys())\n",
    "safety_to_count=list(safety_to_team.values())"
   ]
  },
  {
   "cell_type": "code",
   "execution_count": 14,
   "metadata": {
    "id": "fhEnIM8PoLYV"
   },
   "outputs": [
    {
     "name": "stdout",
     "output_type": "stream",
     "text": [
      "383\n"
     ]
    }
   ],
   "source": [
    "print(sum(safety_to_count))"
   ]
  },
  {
   "cell_type": "code",
   "execution_count": 15,
   "metadata": {
    "id": "fhEnIM8PoLYV"
   },
   "outputs": [
    {
     "data": {
      "image/png": "[encoded data removed]",
      "text/plain": [
       "<Figure size 1080x396 with 1 Axes>"
      ]
     },
     "metadata": {
      "needs_background": "light"
     },
     "output_type": "display_data"
    }
   ],
   "source": [
    "# function to add value labels\n",
    "def addlabels(x,y):\n",
    "    for i in range(len(x)):\n",
    "        plt.text(i,y[i]+.08,\"{:.0f}\".format(y[i]), ha='center')\n",
    "\n",
    "plt.bar(safety_to_teams, safety_to_count, color = 'green')\n",
    "plt.title('Safeties Given Up by Team (1999-2020)')\n",
    "plt.xlabel('Team')\n",
    "plt.ylabel('Safeties')\n",
    "plt.xticks(rotation=45)\n",
    "addlabels(safety_to_teams, safety_to_count)\n",
    "fig= plt.gcf()\n",
    "fig.set_size_inches(15, 5.5)\n",
    "plt.subplots_adjust(right=0.75)\n",
    "plt.show()"
   ]
  },
  {
   "cell_type": "markdown",
   "metadata": {
    "id": "fhEnIM8PoLYV"
   },
   "source": [
    "Arizona with the weakest back and Philly with the strongest. This is an interesting dynamic because we should be rooting for the safety over any individual team. Does this mean we like Arizona more? \n",
    "\n",
    "Let's move on to the ratio of safeties scored compared to safeties given up. We all know the safety giveth and taketh, but at what rate per team?"
   ]
  },
  {
   "cell_type": "code",
   "execution_count": 16,
   "metadata": {
    "id": "fhEnIM8PoLYV"
   },
   "outputs": [],
   "source": [
    "#safety_ratio_dict = {k: float(safety_by_team[k])/safety_to_team[k] for k in safety_to_team}\n",
    "safety_ratio_dict = {k: safety_by_team[k]/safety_to_team[k] for k in safety_to_team}\n",
    "#sort the dictionary by values, decending\n",
    "safety_ratio_dict=dict(sorted(safety_ratio_dict.items(), key=lambda x: x[1], reverse=True))"
   ]
  },
  {
   "cell_type": "code",
   "execution_count": 17,
   "metadata": {
    "id": "fhEnIM8PoLYV"
   },
   "outputs": [
    {
     "data": {
      "image/png": "[encoded data removed]",
      "text/plain": [
       "<Figure size 1080x576 with 1 Axes>"
      ]
     },
     "metadata": {
      "needs_background": "light"
     },
     "output_type": "display_data"
    }
   ],
   "source": [
    "def addlabels(x,y):\n",
    "    for i in range(len(x)):\n",
    "        plt.text(i,y[i]+.03,x[i], ha='center', size=12)\n",
    "\n",
    "data = {\"x\":[], \"y\":[], \"label\":[]}\n",
    "for i, j in safety_ratio_dict.items():\n",
    "    data[\"x\"].append(i)\n",
    "    data[\"y\"].append(j)\n",
    "    data[\"label\"].append(i)\n",
    "#downarrow = [u'\\u2193']\n",
    "uparrow = u'$\\u2191$'\n",
    "downarrow = u'$\\u2193$'\n",
    "# display scatter plot data\n",
    "plt.figure(figsize=(15,8))\n",
    "plt.title('Ratio of Safeties Scored to Given (1999 to 2020)', fontsize=20)\n",
    "addlabels(data[\"x\"], data[\"y\"])\n",
    "plt.tick_params(\n",
    "    axis='x',          \n",
    "    which='both',      \n",
    "    bottom=False,      \n",
    "    top=False,         \n",
    "    labelbottom=False)\n",
    "plt.plot([32,1], [1,1], color='k', linestyle=':', linewidth=1)\n",
    "plt.plot(data[\"x\"], data[\"y\"], marker = 'o')\n",
    "plt.text(26,.92,str(downarrow) + str(downarrow) + str(downarrow) + 'The Safety Taketh Away', ha='left', size=10)\n",
    "plt.text(1,1.05,str(uparrow) + str(uparrow) + str(uparrow) + 'The Safety Giveth', ha='left', size=10)\n",
    "plt.show()"
   ]
  },
  {
   "cell_type": "markdown",
   "metadata": {
    "id": "fhEnIM8PoLYV"
   },
   "source": [
    "# Let's look at teams total safety involvement"
   ]
  },
  {
   "cell_type": "code",
   "execution_count": 18,
   "metadata": {
    "id": "fhEnIM8PoLYV"
   },
   "outputs": [],
   "source": [
    "#team totals on either side of safety\n",
    "safety_total_team = dict(safetydata['scoringteam'].append(safetydata['brokenteam']).value_counts())\n",
    "safety_total_teams=list(safety_total_team.keys())\n",
    "safety_total_count=list(safety_total_team.values())"
   ]
  },
  {
   "cell_type": "code",
   "execution_count": 19,
   "metadata": {
    "id": "fhEnIM8PoLYV"
   },
   "outputs": [
    {
     "data": {
      "image/png": "[encoded data removed]",
      "text/plain": [
       "<Figure size 1080x396 with 1 Axes>"
      ]
     },
     "metadata": {
      "needs_background": "light"
     },
     "output_type": "display_data"
    }
   ],
   "source": [
    "# function to add value labels\n",
    "def addlabels(x,y):\n",
    "    for i in range(len(x)):\n",
    "        plt.text(i,y[i]+.20,\"{:.0f}\".format(y[i]), ha='center')\n",
    "#convert LeagueYear to string\n",
    "#LeagueYearS = list(map(str, LeagueYear))\n",
    "\n",
    "plt.bar(safety_total_teams, safety_total_count, color = 'green')\n",
    "plt.title('Total Safeties by Team (1999-2020)')\n",
    "plt.xlabel('Team')\n",
    "plt.ylabel('Safeties')\n",
    "plt.xticks(rotation=45)\n",
    "addlabels(safety_total_teams, safety_total_count)\n",
    "fig= plt.gcf()\n",
    "fig.set_size_inches(15, 5.5)\n",
    "plt.subplots_adjust(right=0.75)\n",
    "plt.show()"
   ]
  },
  {
   "cell_type": "markdown",
   "metadata": {
    "id": "fhEnIM8PoLYV"
   },
   "source": [
    "It's easy to think that, with a safety, there is a winner and a loser. But that doesnt consider the fan, who wins either way!\n",
    "\n",
    "As if we needed any other reason to dislike Cincy. Fewest safeties either given up for scored. What a boring team to watch. Detroit is the most fun team to watch over this period (W-L record be damned!)"
   ]
  },
  {
   "cell_type": "markdown",
   "metadata": {
    "id": "fhEnIM8PoLYV"
   },
   "source": [
    "# Let's see where more safeties occur"
   ]
  },
  {
   "cell_type": "code",
   "execution_count": 20,
   "metadata": {
    "id": "fhEnIM8PoLYV"
   },
   "outputs": [
    {
     "data": {
      "image/png": "[encoded data removed]",
      "text/plain": [
       "<Figure size 720x396 with 1 Axes>"
      ]
     },
     "metadata": {
      "needs_background": "light"
     },
     "output_type": "display_data"
    }
   ],
   "source": [
    "# function to add value labels\n",
    "bins_list = np.arange(0, 105, 5).tolist()\n",
    "counts, bins, bars= plt.hist(100-safetydata['yardline_100'], bins=bins_list)\n",
    "\n",
    "def addlabels(x,y):\n",
    "    for i,j in zip(x,y):\n",
    "        if j != 0:\n",
    "            plt.text(i+2.5,j+.5,\"{:.0f}\".format(j), ha='center')\n",
    "\n",
    "bins_list = np.arange(0, 105, 5).tolist()\n",
    "plt.hist(100-safetydata['yardline_100'], bins=bins_list, color='red')\n",
    "plt.title('Where Safeties Occur')\n",
    "plt.xlabel('Yard Line')\n",
    "plt.ylabel('Frequency')\n",
    "plt.xticks(ticks=bins_list)\n",
    "addlabels(bins, counts)\n",
    "fig= plt.gcf()\n",
    "fig.set_size_inches(10, 5.5)\n",
    "plt.show()"
   ]
  },
  {
   "cell_type": "markdown",
   "metadata": {
    "id": "fhEnIM8PoLYV"
   },
   "source": [
    "This yardline is given from the possessing team's field position from their end zone.\n",
    "\n",
    "Zero to ten is the classic Safety Zone (SZ), with zero to five being plum in the zone.\n",
    "\n",
    "Ten to fifteen is the teabag zone, for you are one sack away from being in the zone.\n",
    "\n",
    "Clearly we should all be excited when a team enters any of these zones.\n",
    "\n",
    "Note the long safeties. Three from 65 to 70 yards. One from 75 to 80 yards. ONE FROM 85 TO 90 YARDS?!\n",
    "What is going on here?"
   ]
  },
  {
   "cell_type": "code",
   "execution_count": 21,
   "metadata": {
    "id": "fhEnIM8PoLYV"
   },
   "outputs": [
    {
     "name": "stdout",
     "output_type": "stream",
     "text": [
      "10                                                                                                                                                                                                                                                                                                                                                                                                 (6:36) D.Pederson pass intended for T.Small INTERCEPTED by J.Sehorn at NYG 4. J.Sehorn to NYG 6 for 2 yards. FUMBLES, recovered by NYG-P.Sparks at NYG 0. P.Sparks tackled in End Zone, SAFETY (C.Johnson).\n",
      "177                                                                                                                                                                                                                                                                                                                                                                                                                                        (12:17) (Shotgun) 9-M.Stafford pass short middle intended for 21-A.Brown INTERCEPTED by 37-J.Butler at STL 0. 37-J.Butler tackled in End Zone, SAFETY (34-K.Smith).\n",
      "217                                                                                                                                                                                                                                                                                                                                                                                                                              4-J.Hanson kicks 64 yards from DET 35 to GB 1. 22-P.Lee tackled in End Zone for -1 yards, SAFETY. The Replay Assistant challenged the safety ruling, and the play was Upheld.\n",
      "237                                                                                                                                                                                                                                                                                                                                                                                                                        6-S.Suisham kicks 64 yards from PIT 35 to TEN 1. 25-D.Reynaud tackled in End Zone for -1 yards, SAFETY. The Replay Assistant challenged the safety ruling, and the play was Upheld.\n",
      "297    6-S.Martin kicks 65 yards from DET 35 to IND 0. 11-Q.Bray to IND 12 for 12 yards. Lateral to 33-R.Turbin to IND 6 for -6 yards. Lateral to 10-D.Moncrief to IND 4 for -2 yards. Lateral to 13-T.Hilton to IND 5 for 1 yard. Lateral to 11-Q.Bray to IND 2 for -3 yards. Lateral to 84-J.Doyle to IND -4 for -6 yards. Lateral to 13-T.Hilton to IND -4 for no gain. 13-T.Hilton pass short left to 10-D.Moncrief to IND -5 for -1 yards. FUMBLES, ball out of bounds in End Zone, SAFETY NULLIFIED by Penalty. PENALTY on IND-13-T.Hilton, Illegal Forward Pass, 0 yards, enforced in End Zone, SAFETY.\n",
      "Name: desc, dtype: object\n"
     ]
    }
   ],
   "source": [
    "longsafeties = safetydata.loc[safetydata['yardline_100'] < 50]\n",
    "pd.options.display.max_colwidth = 1000\n",
    "print(longsafeties['desc'])"
   ]
  },
  {
   "cell_type": "markdown",
   "metadata": {
    "id": "fhEnIM8PoLYV"
   },
   "source": [
    "All this safety talk has me thinking: were there any games with multiple safeties? The spirit of Dryer compels it!"
   ]
  },
  {
   "cell_type": "code",
   "execution_count": 22,
   "metadata": {
    "id": "fhEnIM8PoLYV"
   },
   "outputs": [
    {
     "name": "stdout",
     "output_type": "stream",
     "text": [
      "383 total safeties between 1999 and 2020\n",
      "375 total unique game IDs between 1999 and 2020\n"
     ]
    }
   ],
   "source": [
    "print(str(len(safetydata)) + ' total safeties between 1999 and 2020')\n",
    "print(str(len(pd.unique(safetydata['game_id']))) + ' total unique game IDs between 1999 and 2020')"
   ]
  },
  {
   "cell_type": "code",
   "execution_count": 23,
   "metadata": {
    "id": "fhEnIM8PoLYV"
   },
   "outputs": [],
   "source": [
    "multisafetygameids = list(safetydata['game_id'].loc[safetydata['game_id'].duplicated()])\n",
    "multisafetygames = safetydata[safetydata['game_id'].isin(multisafetygameids)]"
   ]
  },
  {
   "cell_type": "code",
   "execution_count": 24,
   "metadata": {
    "id": "fhEnIM8PoLYV"
   },
   "outputs": [
    {
     "data": {
      "text/plain": [
       "game_id          scoringteam\n",
       "1999_04_JAX_PIT  JAX            2\n",
       "2003_05_ARI_DAL  DAL            2\n",
       "2003_05_MIN_ATL  MIN            2\n",
       "2003_11_HOU_BUF  BUF            2\n",
       "2008_10_GB_MIN   MIN            2\n",
       "2011_09_STL_ARI  LA             2\n",
       "2017_13_DEN_MIA  MIA            2\n",
       "2019_09_NYJ_MIA  MIA            1\n",
       "                 NYJ            1\n",
       "dtype: int64"
      ]
     },
     "execution_count": 24,
     "metadata": {},
     "output_type": "execute_result"
    }
   ],
   "source": [
    "multisafetygames.groupby(['game_id','scoringteam']).size()"
   ]
  },
  {
   "cell_type": "markdown",
   "metadata": {
    "id": "fhEnIM8PoLYV"
   },
   "source": [
    "So of the 8 games with multiple safeties, 7 had the two safeties scored by the same team.\n",
    "Sadly, there is no 3 safetey games over this time period."
   ]
  },
  {
   "cell_type": "markdown",
   "metadata": {
    "id": "fhEnIM8PoLYV"
   },
   "source": [
    "# Is the safety REALLY the back breaker?\n",
    "This is a question that keeps Safety First and all mankind up at night. Do safeties result in wins?"
   ]
  },
  {
   "cell_type": "code",
   "execution_count": 25,
   "metadata": {
    "id": "fhEnIM8PoLYV"
   },
   "outputs": [
    {
     "name": "stdout",
     "output_type": "stream",
     "text": [
      "Games where the team with multiple safeties won\n",
      "\n",
      "             game_id scoringteam gamewinner\n",
      "8    1999_04_JAX_PIT         JAX        JAX\n",
      "68   2003_05_ARI_DAL         DAL        DAL\n",
      "70   2003_05_MIN_ATL         MIN        MIN\n",
      "157   2008_10_GB_MIN         MIN        MIN\n",
      "326  2017_13_DEN_MIA         MIA        MIA\n",
      "\n",
      "Games where the team with multiple safeties lost\n",
      "\n",
      "             game_id scoringteam gamewinner\n",
      "76   2003_11_HOU_BUF         BUF        HOU\n",
      "206  2011_09_STL_ARI          LA        ARI\n"
     ]
    }
   ],
   "source": [
    "#create a dataframe selecting from the multi game dataframe the rows where the game id is not the split and scoring team is not the winning team\n",
    "multigamesafetylosers= multisafetygames[['game_id','scoringteam','gamewinner']].loc[(multisafetygames['game_id'] != '2019_09_NYJ_MIA') \n",
    "                     & (multisafetygames['scoringteam'] != multisafetygames['gamewinner'])]\n",
    "#create a dataframe selecting from the multi game dataframe the rows where the game id is not the split and scoring team is the winning team\n",
    "multigamesafetywinners= multisafetygames[['game_id','scoringteam','gamewinner']].loc[(multisafetygames['game_id'] != '2019_09_NYJ_MIA') \n",
    "                     & (multisafetygames['scoringteam'] == multisafetygames['gamewinner'])]\n",
    "#drop duplicate rows\n",
    "multigamesafetywinners = multigamesafetywinners.drop_duplicates()\n",
    "multigamesafetylosers = multigamesafetylosers.drop_duplicates()\n",
    "print('Games where the team with multiple safeties won\\n')\n",
    "print(multigamesafetywinners)\n",
    "print('\\nGames where the team with multiple safeties lost\\n')\n",
    "print(multigamesafetylosers)"
   ]
  },
  {
   "cell_type": "markdown",
   "metadata": {
    "id": "fhEnIM8PoLYV"
   },
   "source": [
    "Of the 8 games with multiple safeties<br>\n",
    "5 teams with 2 safeties won<br>\n",
    "2 teams with 2 safeties lost<br>\n",
    "1 game had the safety scored by both teams"
   ]
  },
  {
   "cell_type": "code",
   "execution_count": 26,
   "metadata": {
    "id": "fhEnIM8PoLYV"
   },
   "outputs": [
    {
     "name": "stdout",
     "output_type": "stream",
     "text": [
      "Number of games with a single safety where the scoring team won: 240\n",
      "Number of games with a single safety where the scoring team lost: 127\n"
     ]
    }
   ],
   "source": [
    "#make a dataframe filtering where the game_id is NOT (~) in the multi safety list and scoring team = gamewinner\n",
    "singlegamesafetywinners= safetydata[['game_id','scoringteam','gamewinner']].loc[(~safetydata['game_id'].isin(multisafetygameids)) \n",
    "                     & (safetydata['scoringteam'] == safetydata['gamewinner'])]\n",
    "#make a dataframe filtering where the game_id is NOT (~) in the multi safety list and scoring team is not gamewinner\n",
    "singlegamesafetylosers= safetydata[['game_id','scoringteam','gamewinner']].loc[(~safetydata['game_id'].isin(multisafetygameids)) \n",
    "                     & (safetydata['scoringteam'] != safetydata['gamewinner'])]\n",
    "print('Number of games with a single safety where the scoring team won: ' + str(len(singlegamesafetywinners)))\n",
    "print('Number of games with a single safety where the scoring team lost: ' + str(len(singlegamesafetylosers)))\n"
   ]
  },
  {
   "cell_type": "markdown",
   "metadata": {
    "id": "fhEnIM8PoLYV"
   },
   "source": [
    "There we have it.<br>\n",
    "Between 1999 and 2020 there were 383 safeties scored in 375 games.<br>\n",
    "In 245 games, the scoring team won for a winning percentage of 65.5%<br>\n",
    "In 129 games, the scoring team lost for a losing percentage of 34.5%<br>\n",
    "The denominator excludes the one game where both teams scored a safety.\n"
   ]
  },
  {
   "cell_type": "markdown",
   "metadata": {
    "id": "fhEnIM8PoLYV"
   },
   "source": [
    "# What was the margin of victory for games with a safety?"
   ]
  },
  {
   "cell_type": "code",
   "execution_count": 27,
   "metadata": {
    "id": "fhEnIM8PoLYV"
   },
   "outputs": [
    {
     "name": "stdout",
     "output_type": "stream",
     "text": [
      "1\n",
      "43\n"
     ]
    },
    {
     "data": {
      "image/png": "[encoded data removed]",
      "text/plain": [
       "<Figure size 720x396 with 1 Axes>"
      ]
     },
     "metadata": {
      "needs_background": "light"
     },
     "output_type": "display_data"
    }
   ],
   "source": [
    "safetydata['absresult']= safetydata['result'].abs()\n",
    "print(min(safetydata['absresult']))\n",
    "print(max(safetydata['absresult']))\n",
    "\n",
    "pointmargin = safetydata[['game_id','absresult']]\n",
    "pointmargin= pointmargin.drop_duplicates()# function to add value labels\n",
    "\n",
    "bins_list = np.arange(1, 45,2).tolist()\n",
    "counts, bins, bars= plt.hist(pointmargin['absresult'], bins=bins_list)\n",
    "\n",
    "def addlabels(x,y):\n",
    "    for i,j in zip(x,y):\n",
    "        if j != 0:\n",
    "            plt.text(i+1,j+.5,\"{:.0f}\".format(j), ha='center')\n",
    "\n",
    "plt.hist(pointmargin['absresult'], bins=bins_list, color='purple')\n",
    "plt.title('Margin of Victory/Defeat for Safetey Games')\n",
    "plt.xlabel('Margin of Victory')\n",
    "plt.ylabel('Frequency')\n",
    "plt.xticks(ticks=bins_list)\n",
    "addlabels(bins, counts)\n",
    "fig= plt.gcf()\n",
    "fig.set_size_inches(10, 5.5)\n",
    "plt.show()"
   ]
  },
  {
   "cell_type": "markdown",
   "metadata": {
    "id": "fhEnIM8PoLYV"
   },
   "source": [
    "Whoa, 39 games where the margin of victory is <3. How many of those games were directly related to the safety?"
   ]
  },
  {
   "cell_type": "code",
   "execution_count": 28,
   "metadata": {
    "id": "fhEnIM8PoLYV"
   },
   "outputs": [
    {
     "name": "stdout",
     "output_type": "stream",
     "text": [
      "Of the 39 games with a Safety where the margin of victory was 2 or less, the safety scoring team won 22\n"
     ]
    }
   ],
   "source": [
    "winsby2= safetydata[['game_id','scoringteam','gamewinner','absresult']].loc[(safetydata['absresult']<3)]\n",
    "winsby2 = winsby2.drop_duplicates()\n",
    "winsby2.head()\n",
    "safetywinsby2 = winsby2.loc[(winsby2['scoringteam'] == winsby2['gamewinner'])]\n",
    "safetylossesby2 = winsby2.loc[(winsby2['scoringteam'] != winsby2['gamewinner'])]\n",
    "\n",
    "print('Of the 39 games with a Safety where the margin of victory was 2 or less, the safety scoring team won ' + str(len(safetywinsby2)))"
   ]
  },
  {
   "cell_type": "markdown",
   "metadata": {
    "id": "fhEnIM8PoLYV"
   },
   "source": [
    "We need to understand of those games, which ones had the safety as the last score!"
   ]
  },
  {
   "cell_type": "code",
   "execution_count": 29,
   "metadata": {
    "id": "fhEnIM8PoLYV"
   },
   "outputs": [],
   "source": [
    "columns=['game_id','away_score','home_score','defteam_score_post','posteam_score_post','scoringteam','posteam_type','posteam','defteam','defteam_score','posteam_score']\n",
    "winsby2 = list(safetywinsby2['game_id'])\n",
    "closewins= safetydata[columns].loc[safetydata['game_id'].isin(winsby2)]\n",
    "closewins['maxscore']= closewins[['away_score','home_score']].max(axis=1)"
   ]
  },
  {
   "cell_type": "code",
   "execution_count": 30,
   "metadata": {
    "id": "fhEnIM8PoLYV"
   },
   "outputs": [
    {
     "data": {
      "text/plain": [
       "91     2004_10_CHI_TEN\n",
       "113     2006_01_BUF_NE\n",
       "245    2013_09_CIN_MIA\n",
       "273    2014_16_MIN_MIA\n",
       "Name: game_id, dtype: object"
      ]
     },
     "execution_count": 30,
     "metadata": {},
     "output_type": "execute_result"
    }
   ],
   "source": [
    "closewins['game_id'].loc[(closewins['defteam_score_post'] == closewins['maxscore']) | \n",
    "                  (closewins['posteam_score_post'] == closewins['maxscore'])]"
   ]
  },
  {
   "cell_type": "markdown",
   "metadata": {
    "id": "fhEnIM8PoLYV"
   },
   "source": [
    "These are probably the most important in NFL history"
   ]
  }
 ],
 "metadata": {
  "colab": {
   "collapsed_sections": [],
   "name": "NFL data.ipynb",
   "provenance": [],
   "toc_visible": true
  },
  "kernelspec": {
   "display_name": "Python 3",
   "language": "python",
   "name": "python3"
  },
  "language_info": {
   "codemirror_mode": {
    "name": "ipython",
    "version": 3
   },
   "file_extension": ".py",
   "mimetype": "text/x-python",
   "name": "python",
   "nbconvert_exporter": "python",
   "pygments_lexer": "ipython3",
   "version": "3.8.5"
  }
 },
 "nbformat": 4,
 "nbformat_minor": 4
}
