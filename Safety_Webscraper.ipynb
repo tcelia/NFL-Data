{
  "nbformat": 4,
  "nbformat_minor": 0,
  "metadata": {
    "colab": {
      "provenance": [],
      "collapsed_sections": []
    },
    "kernelspec": {
      "name": "python3",
      "display_name": "Python 3"
    },
    "language_info": {
      "name": "python"
    }
  },
  "cells": [
    {
      "cell_type": "markdown",
      "source": [
        "# Pulling Weekly and YTD Safety Data from Pro Football Reference and emailing the results"
      ],
      "metadata": {
        "id": "w8aU3z-RcBh9"
      }
    },
    {
      "cell_type": "markdown",
      "source": [
        "The following code will get a list of all safeties score each week and year-to-date then send an email to a group of safety enthusiasts"
      ],
      "metadata": {
        "id": "U9Z4uldRYdR4"
      }
    },
    {
      "cell_type": "markdown",
      "source": [
        "## Import libraries"
      ],
      "metadata": {
        "id": "NT-S02RqJHDO"
      }
    },
    {
      "cell_type": "code",
      "source": [
        "from urllib.request import urlopen\n",
        "from bs4 import BeautifulSoup\n",
        "import pandas as pd\n",
        "from datetime import date"
      ],
      "metadata": {
        "id": "QLjjxl2fcGPM"
      },
      "execution_count": null,
      "outputs": []
    },
    {
      "cell_type": "markdown",
      "source": [
        "## Define a function to pull the data"
      ],
      "metadata": {
        "id": "706Hf6OFJKfz"
      }
    },
    {
      "cell_type": "code",
      "source": [
        "def safety_data (week, year):\n",
        "  #define the base URLs to reference\n",
        "  url = 'https://www.pro-football-reference.com/years/{}/week_{}.htm'.format(year, week)\n",
        "  base_url= 'https://www.pro-football-reference.com/'\n",
        "  \n",
        "  #create a blank dataframe to hold the data\n",
        "  weekly_safeties = pd.DataFrame(columns=['Tm', 'Detail','Week'])\n",
        "  \n",
        "  #open URL and pass to BeautifulSoup\n",
        "  stats_page = BeautifulSoup(urlopen(url))\n",
        "  \n",
        "  #create a list of links from the page\n",
        "  boxscore_links= stats_page.find_all('a')\n",
        "\n",
        "  #filter only on links with boxscore and span in it\n",
        "  boxscore_links = [x for x in boxscore_links if '\"/boxscores/' in str(x) and 'span' in str(x)]\n",
        "  \n",
        "  #loop through the links\n",
        "  for y in list(range(len(boxscore_links))):\n",
        "    #pass each link to BeautifulSoup\n",
        "    game_page = BeautifulSoup(urlopen(base_url + boxscore_links[y]['href']))\n",
        "    \n",
        "    #score table is call 'scoring'\n",
        "    results = game_page.find(id=\"scoring\")\n",
        "    #read scores into dataframe\n",
        "    df = pd.read_html(str(results))[0]\n",
        "    df=df[['Tm', 'Detail']]\n",
        "    #filter everything without 'safety'\n",
        "    df=df[df[\"Detail\"].str.contains(\"Safety\")==True]\n",
        "    #create a column to denote the week\n",
        "    df['Week']=week\n",
        "    weekly_safeties = pd.concat([weekly_safeties, df])\n",
        "    #reset the index and add 1 to get a count\n",
        "    weekly_safeties.reset_index(inplace=True, drop=True)\n",
        "    weekly_safeties.index += 1\n",
        "  return weekly_safeties\n"
      ],
      "metadata": {
        "id": "c77HkgAccLdZ"
      },
      "execution_count": null,
      "outputs": []
    },
    {
      "cell_type": "markdown",
      "source": [
        "## Execute the code"
      ],
      "metadata": {
        "id": "ezEn6zH6JPIA"
      }
    },
    {
      "cell_type": "code",
      "source": [
        "#calculate the week\n",
        "#start date (which is kickoff) will need to be manually updated every year\n",
        "start_date= date(2022, 9, 8)\n",
        "today = date.today()\n",
        "days = abs(start_date-today).days\n",
        "nfl_week=days//7+1\n",
        "\n",
        "#define the weeks to use and the year. \n",
        "if nfl_week == 1:\n",
        "  week=[1]\n",
        "else:\n",
        "  week= list(range(1,nfl_week+1))\n",
        "#Year should be updated manually every year\n",
        "year=2022\n",
        "\n",
        "#create a blank dataframe to hold the YTD numbers\n",
        "ytd_safeties = pd.DataFrame(columns=['Tm', 'Detail','Week'])\n",
        "\n",
        "#loop through the weeks and run the function defined above\n",
        "for x in week:\n",
        "  weekly_safeties=safety_data(x, year)\n",
        "  #print(data)\n",
        "  if len(weekly_safeties)>0:\n",
        "    ytd_safeties = pd.concat([ytd_safeties, weekly_safeties])\n",
        "ytd_safeties.reset_index(inplace=True, drop=True)\n",
        "ytd_safeties.index += 1\n",
        "\n",
        "weekly_safeties.rename(columns={'Tm': 'Team'}, inplace=True)\n",
        "ytd_safeties.rename(columns={'Tm': 'Team'}, inplace=True)\n"
      ],
      "metadata": {
        "id": "G-ww86wYdV5e"
      },
      "execution_count": null,
      "outputs": []
    },
    {
      "cell_type": "markdown",
      "source": [
        "## Send an Email"
      ],
      "metadata": {
        "id": "JL0ERcrMOu4s"
      }
    },
    {
      "cell_type": "code",
      "source": [
        "pip install pretty_html_table"
      ],
      "metadata": {
        "colab": {
          "base_uri": "https://localhost:8080/"
        },
        "id": "uomKQYaDxxjO",
        "outputId": "5a9c633a-1af3-4491-e904-51da76cddd76"
      },
      "execution_count": null,
      "outputs": [
        {
          "output_type": "stream",
          "name": "stdout",
          "text": [
            "Looking in indexes: https://pypi.org/simple, https://us-python.pkg.dev/colab-wheels/public/simple/\n",
            "Requirement already satisfied: pretty_html_table in /usr/local/lib/python3.7/dist-packages (0.9.16)\n",
            "Requirement already satisfied: pandas in /usr/local/lib/python3.7/dist-packages (from pretty_html_table) (1.3.5)\n",
            "Requirement already satisfied: python-dateutil>=2.7.3 in /usr/local/lib/python3.7/dist-packages (from pandas->pretty_html_table) (2.8.2)\n",
            "Requirement already satisfied: numpy>=1.17.3 in /usr/local/lib/python3.7/dist-packages (from pandas->pretty_html_table) (1.21.6)\n",
            "Requirement already satisfied: pytz>=2017.3 in /usr/local/lib/python3.7/dist-packages (from pandas->pretty_html_table) (2022.4)\n",
            "Requirement already satisfied: six>=1.5 in /usr/local/lib/python3.7/dist-packages (from python-dateutil>=2.7.3->pandas->pretty_html_table) (1.15.0)\n"
          ]
        }
      ]
    },
    {
      "cell_type": "code",
      "source": [
        "from smtplib import SMTP\n",
        "from email.mime.text import MIMEText\n",
        "from email.mime.multipart import MIMEMultipart\n",
        "from pretty_html_table import build_table\n",
        "\n",
        "output_week= build_table(weekly_safeties, 'blue_light')\n",
        "output_ytd= build_table(ytd_safeties, 'blue_light')\n",
        "\n",
        "if len(weekly_safeties) == 0:\n",
        "  msg1 = \"There were no safeties this week<br><br>\"\n",
        "elif len(weekly_safeties) ==1:\n",
        "  msg1= \"Below is the safety scored in week {}:<br>\".format(nfl_week) + output_week\n",
        "else:\n",
        "  msg1= \"Below are the safeties scored in week {}:<br>\".format(nfl_week) + output_week\n",
        "\n",
        "if len(ytd_safeties) == 0:\n",
        "  msg2=\"There were no safeties scored this year<br>\"\n",
        "elif len(ytd_safeties) == 1:\n",
        "  msg2=\"Below is the only safety scored this year:<br>\" + output_ytd\n",
        "else:\n",
        "  msg2=\"Below are the safeties scored year-to-date:<br>\" + output_ytd\n",
        "\n",
        "closer='<br>Brought to you by Safety First<br><br> If you want to unsubscribe, click <a href=\"https://www.mentalhealth.gov/get-help\">here</a>.'\n",
        "\n",
        "def send_mail(recipient, body):\n",
        "\n",
        "    message = MIMEMultipart()\n",
        "    message['Subject'] = 'Week {} Safeties!'.format(nfl_week)\n",
        "    message['From'] = 'XXXXXXXX@gmail.com'\n",
        "    message['To'] = recipient\n",
        "\n",
        "    body_content = body\n",
        "    message.attach(MIMEText(body_content, \"html\"))\n",
        "    msg_body = message.as_string()\n",
        "\n",
        "    server = SMTP('smtp.gmail.com', 587)\n",
        "    server.starttls()\n",
        "    server.login(message['From'], 'PASSWORD')\n",
        "    server.sendmail(message['From'], message['To'], msg_body)\n",
        "    server.quit()\n",
        "\n",
        "recipients=['XXXXXX@gmail.com','XXXXXX@gmail.com']\n",
        "\n",
        "for recipient in recipients:\n",
        "  send_mail(recipient, msg1 + msg2 + closer)"
      ],
      "metadata": {
        "id": "-GE2E7_1QSpp"
      },
      "execution_count": null,
      "outputs": []
    }
  ]
}
